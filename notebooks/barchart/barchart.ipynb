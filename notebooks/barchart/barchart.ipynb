{
 "cells": [
  {
   "cell_type": "code",
   "execution_count": 1,
   "metadata": {},
   "outputs": [],
   "source": [
    "import numpy as np\n",
    "import pandas as pd"
   ]
  },
  {
   "cell_type": "code",
   "execution_count": 2,
   "metadata": {},
   "outputs": [],
   "source": [
    "countries = [\"D1\", \"E0\", \"F1\", \"I1\", \"SP1\"]\n",
    "years = range(2013, 2020)\n",
    "providers = ['B365','BW','IW', 'PS', 'WH', 'VC']"
   ]
  },
  {
   "cell_type": "code",
   "execution_count": 3,
   "metadata": {},
   "outputs": [],
   "source": [
    "def compute(country, year, provider):\n",
    "    colh = \"{}H\".format(provider)\n",
    "    cold = \"{}D\".format(provider)\n",
    "    cola = \"{}A\".format(provider)\n",
    "\n",
    "    data = pd.read_csv(\"../../data/Dataset2/{}_{}.csv\".format(country, year))\n",
    "    if colh not in data.columns:\n",
    "        return\n",
    "\n",
    "    data = data[[\"HomeTeam\", \"AwayTeam\", \"FTR\", colh, cold, cola]]\n",
    "    \n",
    "    team_results = {}\n",
    "\n",
    "    def find_results(row):\n",
    "        #global team_results\n",
    "        home = row[\"HomeTeam\"]\n",
    "        away = row[\"AwayTeam\"]\n",
    "        res = row[\"FTR\"]\n",
    "        oddsH = row[colh]\n",
    "        oddsD = row[cold]\n",
    "        oddsA = row[cola]\n",
    "\n",
    "        if not home in team_results:\n",
    "            team_results[home] = 0\n",
    "\n",
    "        if not away in team_results:\n",
    "            team_results[away] = 0\n",
    "\n",
    "        pred = np.array([oddsH, oddsD, oddsA]).argmin()\n",
    "\n",
    "        pred = np.array([\"H\", \"D\", \"A\"])[pred]\n",
    "\n",
    "        if res == pred:\n",
    "            team_results[home] += 1\n",
    "            team_results[away] += 1\n",
    "        return\n",
    "\n",
    "    data.apply(find_results, axis = 1)\n",
    "    total = (len(team_results) - 1) * 2\n",
    "    team_results = pd.DataFrame.from_dict(team_results, orient=\"index\", columns=[\"correct_pred\"])\n",
    "\n",
    "    team_results[\"wrong_pred\"]=total-team_results[\"correct_pred\"]\n",
    "    \n",
    "    team_results = team_results.sort_values(\"correct_pred\")\n",
    "\n",
    "    team_results = team_results.reset_index()\n",
    "\n",
    "    team_results = team_results.rename(columns={\"index\": \"name\"})\n",
    "    \n",
    "    team_results.to_csv(\"data/{}_{}_{}.csv\".format(country, year, provider.lower()), index=False)"
   ]
  },
  {
   "cell_type": "code",
   "execution_count": 4,
   "metadata": {},
   "outputs": [],
   "source": [
    "for country in countries:\n",
    "    for year in years:\n",
    "        for provider in providers:\n",
    "            compute(country, str(year), provider)"
   ]
  },
  {
   "cell_type": "code",
   "execution_count": null,
   "metadata": {},
   "outputs": [],
   "source": []
  }
 ],
 "metadata": {
  "kernelspec": {
   "display_name": "Python 3",
   "language": "python",
   "name": "python3"
  },
  "language_info": {
   "codemirror_mode": {
    "name": "ipython",
    "version": 3
   },
   "file_extension": ".py",
   "mimetype": "text/x-python",
   "name": "python",
   "nbconvert_exporter": "python",
   "pygments_lexer": "ipython3",
   "version": "3.7.3"
  }
 },
 "nbformat": 4,
 "nbformat_minor": 4
}
