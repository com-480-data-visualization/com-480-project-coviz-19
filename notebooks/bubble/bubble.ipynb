{
 "cells": [
  {
   "cell_type": "code",
   "execution_count": 32,
   "metadata": {},
   "outputs": [],
   "source": [
    "file_list=[\"SP1_2018\",\"I1_2018\",\"F1_2018\",\"D1_2018\",\"E0_2018\"]\n",
    "import numpy as np\n",
    "import pandas as pd"
   ]
  },
  {
   "cell_type": "code",
   "execution_count": 39,
   "metadata": {},
   "outputs": [],
   "source": [
    "for file in file_list:\n",
    "\n",
    "    data = pd.read_csv(\"../../data/Dataset2/\"+file+\".csv\")\n",
    "\n",
    "    data = data[[\"HomeTeam\", \"AwayTeam\", \"HY\", \"AY\"]]\n",
    "\n",
    "    Ycards_dict=dict.fromkeys(data[\"HomeTeam\"],0)\n",
    "    for index, row in data.iterrows():\n",
    "\n",
    "        Ycards_dict[row[\"HomeTeam\"]] += int(row[\"HY\"])\n",
    "        Ycards_dict[row[\"AwayTeam\"]] += int(row[\"AY\"])\n",
    "\n",
    "    Ycards_dict\n",
    "    Ycards_dict={k: v for k, v in sorted(Ycards_dict.items(), key=lambda item: item[1],reverse=True)}\n",
    "\n",
    "    with open('../../skeleton/bubble/data/YCards_'+file+'.csv', 'w', newline=\"\") as csv_file:  \n",
    "        writer = csv.writer(csv_file)\n",
    "        writer.writerow([\"team\",\"value\"])\n",
    "        for key, value in Ycards_dict.items():\n",
    "            writer.writerow([key, value])\n",
    "\n",
    "    ## Red Cards\n",
    "\n",
    "    data = pd.read_csv(\"../../data/Dataset2/\"+file+\".csv\")\n",
    "\n",
    "    data = data[[\"HomeTeam\", \"AwayTeam\", \"HR\", \"AR\"]]\n",
    "\n",
    "    Rcards_dict=dict.fromkeys(data[\"HomeTeam\"],0)\n",
    "    for index, row in data.iterrows():\n",
    "\n",
    "        Rcards_dict[row[\"HomeTeam\"]] += int(row[\"HR\"])\n",
    "        Rcards_dict[row[\"AwayTeam\"]] += int(row[\"AR\"])\n",
    "\n",
    "    Rcards_dict\n",
    "\n",
    "    Rcards_dict={k: v for k, v in sorted(Rcards_dict.items(), key=lambda item: item[1],reverse=True)}\n",
    "\n",
    "    with open('../../skeleton/bubble/data/RCards_'+file+'.csv', 'w', newline=\"\") as csv_file:  \n",
    "        writer = csv.writer(csv_file)\n",
    "        writer.writerow([\"team\",\"value\"])\n",
    "        for key, value in Rcards_dict.items():\n",
    "            writer.writerow([key, value])\n",
    "\n",
    "    ## Corners\n",
    "\n",
    "    data = pd.read_csv(\"../../data/Dataset2/\"+file+\".csv\")\n",
    "\n",
    "    data.columns\n",
    "\n",
    "    data = data[[\"HomeTeam\", \"AwayTeam\", \"HC\", \"AC\"]]\n",
    "\n",
    "    corners_dict=dict.fromkeys(data[\"HomeTeam\"],0)\n",
    "    for index, row in data.iterrows():\n",
    "\n",
    "        corners_dict[row[\"HomeTeam\"]] += int(row[\"HC\"])\n",
    "        corners_dict[row[\"AwayTeam\"]] += int(row[\"AC\"])\n",
    "\n",
    "    corners_dict\n",
    "\n",
    "    corners_dict={k: v for k, v in sorted(corners_dict.items(), key=lambda item: item[1],reverse=True)}\n",
    "    with open('../../skeleton/bubble/data/corners_'+file+'.csv', 'w', newline=\"\") as csv_file:  \n",
    "        writer = csv.writer(csv_file)\n",
    "        writer.writerow([\"team\",\"value\"])\n",
    "        for key, value in corners_dict.items():\n",
    "            writer.writerow([key, value])\n",
    "\n"
   ]
  },
  {
   "cell_type": "code",
   "execution_count": null,
   "metadata": {},
   "outputs": [],
   "source": []
  }
 ],
 "metadata": {
  "kernelspec": {
   "display_name": "Python 3",
   "language": "python",
   "name": "python3"
  },
  "language_info": {
   "codemirror_mode": {
    "name": "ipython",
    "version": 3
   },
   "file_extension": ".py",
   "mimetype": "text/x-python",
   "name": "python",
   "nbconvert_exporter": "python",
   "pygments_lexer": "ipython3",
   "version": "3.7.6"
  }
 },
 "nbformat": 4,
 "nbformat_minor": 4
}
